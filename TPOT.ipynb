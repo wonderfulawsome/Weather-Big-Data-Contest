{
 "cells": [
  {
   "cell_type": "code",
   "execution_count": 1,
   "metadata": {},
   "outputs": [],
   "source": [
    "import pandas as pd\n",
    "# 파일 경로 설정\n",
    "merged_data_path = 'C:/Users/82106/Desktop/데이터 분석 프로젝트 2/날씨 빅데이터 콘테스트/데이터/merged_data.csv'\n",
    "merged_data= pd.read_csv(merged_data_path, encoding='cp949')"
   ]
  },
  {
   "cell_type": "markdown",
   "metadata": {},
   "source": [
    "### AutoML 훈련"
   ]
  },
  {
   "cell_type": "markdown",
   "metadata": {},
   "source": [
    "### 1. TPOT의 작동 방식과 시간 소모성\n",
    "TPOT은 유전 알고리즘을 사용하여 최적의 머신 러닝 파이프라인을 찾는다. 이 과정은 다음과 같은 작업을 포함하므로 시간이 많이 소요한다:\n",
    "\n",
    "다양한 모델 시험: TPOT은 수십에서 수백 가지의 다양한 머신 러닝 모델과 전처리 방법을 자동으로 시험한다.\n",
    "\n",
    "하이퍼파라미터 튜닝: 각 모델에 대해 최적의 하이퍼파라미터를 찾기 위해 여러 조합을 시도한다.\n",
    "\n",
    "교차 검증: 모델의 성능을 평가하기 위해 교차 검증을 사용합니다. 이는 각 모델 조합에 대해 데이터를 여러 번 훈련하고 평가하는 과정을 포함하므로 계산에 많은 시간이 소요한다.\n",
    "\n",
    "유전 알고리즘: 모델의 조합과 하이퍼파라미터를 진화시키는 과정은 여러 세대에 걸쳐 이루어지며, 각 세대는 이전 세대보다 더 나은 결과를 생성. 이 과정은 많은 계산을 필요로 한다.\n"
   ]
  },
  {
   "cell_type": "code",
   "execution_count": 13,
   "metadata": {},
   "outputs": [
    {
     "name": "stdout",
     "output_type": "stream",
     "text": [
      "Requirement already satisfied: tpot in c:\\users\\82106\\appdata\\local\\programs\\python\\python310\\lib\\site-packages (0.12.2)\n",
      "Requirement already satisfied: joblib>=0.13.2 in c:\\users\\82106\\appdata\\local\\programs\\python\\python310\\lib\\site-packages (from tpot) (1.3.2)\n",
      "Requirement already satisfied: deap>=1.2 in c:\\users\\82106\\appdata\\local\\programs\\python\\python310\\lib\\site-packages (from tpot) (1.4.1)\n",
      "Requirement already satisfied: stopit>=1.1.1 in c:\\users\\82106\\appdata\\local\\programs\\python\\python310\\lib\\site-packages (from tpot) (1.1.2)\n",
      "Requirement already satisfied: pandas>=0.24.2 in c:\\users\\82106\\appdata\\local\\programs\\python\\python310\\lib\\site-packages (from tpot) (2.2.1)\n",
      "Requirement already satisfied: scipy>=1.3.1 in c:\\users\\82106\\appdata\\local\\programs\\python\\python310\\lib\\site-packages (from tpot) (1.12.0)\n",
      "Requirement already satisfied: update-checker>=0.16 in c:\\users\\82106\\appdata\\local\\programs\\python\\python310\\lib\\site-packages (from tpot) (0.18.0)\n",
      "Requirement already satisfied: tqdm>=4.36.1 in c:\\users\\82106\\appdata\\local\\programs\\python\\python310\\lib\\site-packages (from tpot) (4.66.2)\n",
      "Requirement already satisfied: numpy>=1.16.3 in c:\\users\\82106\\appdata\\local\\programs\\python\\python310\\lib\\site-packages (from tpot) (1.26.4)\n",
      "Requirement already satisfied: xgboost>=1.1.0 in c:\\users\\82106\\appdata\\local\\programs\\python\\python310\\lib\\site-packages (from tpot) (2.0.3)\n",
      "Requirement already satisfied: scikit-learn>=1.4.1 in c:\\users\\82106\\appdata\\local\\programs\\python\\python310\\lib\\site-packages (from tpot) (1.4.1.post1)\n",
      "Requirement already satisfied: pytz>=2020.1 in c:\\users\\82106\\appdata\\local\\programs\\python\\python310\\lib\\site-packages (from pandas>=0.24.2->tpot) (2024.1)\n",
      "Requirement already satisfied: python-dateutil>=2.8.2 in c:\\users\\82106\\appdata\\roaming\\python\\python310\\site-packages (from pandas>=0.24.2->tpot) (2.8.2)\n",
      "Requirement already satisfied: tzdata>=2022.7 in c:\\users\\82106\\appdata\\local\\programs\\python\\python310\\lib\\site-packages (from pandas>=0.24.2->tpot) (2024.1)\n",
      "Requirement already satisfied: six>=1.5 in c:\\users\\82106\\appdata\\roaming\\python\\python310\\site-packages (from python-dateutil>=2.8.2->pandas>=0.24.2->tpot) (1.16.0)\n",
      "Requirement already satisfied: threadpoolctl>=2.0.0 in c:\\users\\82106\\appdata\\local\\programs\\python\\python310\\lib\\site-packages (from scikit-learn>=1.4.1->tpot) (3.3.0)\n",
      "Requirement already satisfied: colorama in c:\\users\\82106\\appdata\\roaming\\python\\python310\\site-packages (from tqdm>=4.36.1->tpot) (0.4.6)\n",
      "Requirement already satisfied: requests>=2.3.0 in c:\\users\\82106\\appdata\\local\\programs\\python\\python310\\lib\\site-packages (from update-checker>=0.16->tpot) (2.31.0)\n",
      "Requirement already satisfied: certifi>=2017.4.17 in c:\\users\\82106\\appdata\\local\\programs\\python\\python310\\lib\\site-packages (from requests>=2.3.0->update-checker>=0.16->tpot) (2024.2.2)\n",
      "Requirement already satisfied: idna<4,>=2.5 in c:\\users\\82106\\appdata\\local\\programs\\python\\python310\\lib\\site-packages (from requests>=2.3.0->update-checker>=0.16->tpot) (3.6)\n",
      "Requirement already satisfied: charset-normalizer<4,>=2 in c:\\users\\82106\\appdata\\local\\programs\\python\\python310\\lib\\site-packages (from requests>=2.3.0->update-checker>=0.16->tpot) (3.3.2)\n",
      "Requirement already satisfied: urllib3<3,>=1.21.1 in c:\\users\\82106\\appdata\\local\\programs\\python\\python310\\lib\\site-packages (from requests>=2.3.0->update-checker>=0.16->tpot) (2.2.1)\n"
     ]
    },
    {
     "name": "stderr",
     "output_type": "stream",
     "text": [
      "WARNING: You are using pip version 21.2.4; however, version 24.0 is available.\n",
      "You should consider upgrading via the 'C:\\Users\\82106\\AppData\\Local\\Programs\\Python\\Python310\\python.exe -m pip install --upgrade pip' command.\n"
     ]
    }
   ],
   "source": [
    "# TPOT 설치\n",
    "!pip install tpot"
   ]
  },
  {
   "cell_type": "code",
   "execution_count": 14,
   "metadata": {},
   "outputs": [],
   "source": [
    "from tpot import TPOTRegressor"
   ]
  },
  {
   "cell_type": "code",
   "execution_count": 15,
   "metadata": {},
   "outputs": [
    {
     "name": "stdout",
     "output_type": "stream",
     "text": [
      "                                                                               \n",
      "Generation 1 - Current best internal CV score: -47.984688738434315\n",
      "                                                                                \n",
      "Generation 2 - Current best internal CV score: -47.89802715943064\n",
      "                                                                                \n",
      "Generation 3 - Current best internal CV score: -46.72155225084787\n",
      "                                                                                \n",
      "Generation 4 - Current best internal CV score: -46.72155225084787\n",
      "                                                                                \n",
      "Generation 5 - Current best internal CV score: -46.51026397154923\n",
      "                                                                                \n",
      "Best pipeline: RandomForestRegressor(ElasticNetCV(input_matrix, l1_ratio=0.75, tol=0.01), bootstrap=True, max_features=0.4, min_samples_leaf=6, min_samples_split=14, n_estimators=100)\n",
      "-55.67483243843155\n"
     ]
    },
    {
     "name": "stderr",
     "output_type": "stream",
     "text": [
      "c:\\Users\\82106\\AppData\\Local\\Programs\\Python\\Python310\\lib\\site-packages\\sklearn\\base.py:493: UserWarning: X does not have valid feature names, but ElasticNetCV was fitted with feature names\n",
      "  warnings.warn(\n"
     ]
    }
   ],
   "source": [
    "tpot = TPOTRegressor(generations=5, population_size=50, verbosity=2, random_state=42)\n",
    "tpot.fit(X_train, y_train)\n",
    "# 테스트 데이터로 평가\n",
    "print(tpot.score(X_test, y_test))"
   ]
  },
  {
   "cell_type": "code",
   "execution_count": 16,
   "metadata": {},
   "outputs": [
    {
     "name": "stderr",
     "output_type": "stream",
     "text": [
      "c:\\Users\\82106\\AppData\\Local\\Programs\\Python\\Python310\\lib\\site-packages\\sklearn\\base.py:493: UserWarning: X does not have valid feature names, but ElasticNetCV was fitted with feature names\n",
      "  warnings.warn(\n"
     ]
    }
   ],
   "source": [
    "# 테스트 데이터셋에 대한 예측 수행\n",
    "y_pred = tpot.predict(X_test)"
   ]
  },
  {
   "cell_type": "code",
   "execution_count": 19,
   "metadata": {},
   "outputs": [
    {
     "name": "stdout",
     "output_type": "stream",
     "text": [
      "RMSE: 7.461556971465912\n"
     ]
    }
   ],
   "source": [
    "from sklearn.metrics import mean_squared_error\n",
    "import numpy as np\n",
    "# RMSE 계산\n",
    "mse = mean_squared_error(y_test, y_pred)\n",
    "rmse = np.sqrt(mse)\n",
    "print('RMSE:', rmse)"
   ]
  },
  {
   "cell_type": "code",
   "execution_count": null,
   "metadata": {},
   "outputs": [],
   "source": []
  }
 ],
 "metadata": {
  "kernelspec": {
   "display_name": "Python 3",
   "language": "python",
   "name": "python3"
  },
  "language_info": {
   "codemirror_mode": {
    "name": "ipython",
    "version": 3
   },
   "file_extension": ".py",
   "mimetype": "text/x-python",
   "name": "python",
   "nbconvert_exporter": "python",
   "pygments_lexer": "ipython3",
   "version": "3.10.2"
  }
 },
 "nbformat": 4,
 "nbformat_minor": 2
}
